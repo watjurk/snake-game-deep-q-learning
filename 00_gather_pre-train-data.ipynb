{
 "cells": [
  {
   "cell_type": "code",
   "execution_count": 1,
   "metadata": {},
   "outputs": [],
   "source": [
    "import time\n",
    "\n",
    "import numpy as np\n",
    "import tensorflow as tf\n",
    "\n",
    "import gym\n",
    "import gym_snake\n",
    "\n",
    "from preprocessor import Preprocessor\n",
    "\n",
    "import dataset as ds\n",
    "\n",
    "data_writer = ds.newTFRecordWriter()"
   ]
  },
  {
   "cell_type": "code",
   "execution_count": 2,
   "metadata": {
    "scrolled": true
   },
   "outputs": [
    {
     "name": "stderr",
     "output_type": "stream",
     "text": [
      "signal: interrupt\n"
     ]
    },
    {
     "ename": "KeyboardInterrupt",
     "evalue": "",
     "output_type": "error",
     "traceback": [
      "\u001b[0;31m---------------------------------------------------------------------------\u001b[0m",
      "\u001b[0;31mKeyboardInterrupt\u001b[0m                         Traceback (most recent call last)",
      "Input \u001b[0;32mIn [2]\u001b[0m, in \u001b[0;36m<cell line: 11>\u001b[0;34m()\u001b[0m\n\u001b[1;32m     12\u001b[0m observation \u001b[38;5;241m=\u001b[39m preprocessor\u001b[38;5;241m.\u001b[39mpreprocess(raw_observation)\n\u001b[1;32m     14\u001b[0m ui\u001b[38;5;241m.\u001b[39mvideo\u001b[38;5;241m.\u001b[39mupdate_stream(\u001b[38;5;124m\"\u001b[39m\u001b[38;5;124mraw\u001b[39m\u001b[38;5;124m\"\u001b[39m, raw_observation)\n\u001b[0;32m---> 15\u001b[0m \u001b[43mtime\u001b[49m\u001b[38;5;241;43m.\u001b[39;49m\u001b[43msleep\u001b[49m\u001b[43m(\u001b[49m\u001b[38;5;241;43m0.15\u001b[39;49m\u001b[43m)\u001b[49m\n\u001b[1;32m     17\u001b[0m action \u001b[38;5;241m=\u001b[39m ui\u001b[38;5;241m.\u001b[39mcontrol\u001b[38;5;241m.\u001b[39mget_value(\u001b[38;5;124m\"\u001b[39m\u001b[38;5;124maction\u001b[39m\u001b[38;5;124m\"\u001b[39m)\n\u001b[1;32m     18\u001b[0m \u001b[38;5;28;01mif\u001b[39;00m action \u001b[38;5;129;01mis\u001b[39;00m \u001b[38;5;28;01mNone\u001b[39;00m:\n",
      "\u001b[0;31mKeyboardInterrupt\u001b[0m: "
     ]
    }
   ],
   "source": [
    "from ml_tools.ui import UI\n",
    "\n",
    "ui = UI()\n",
    "ui.connect(\"./public/pre-train\")\n",
    "\n",
    "preprocessor = Preprocessor()\n",
    "\n",
    "env = gym.make('snake-v0')\n",
    "raw_observation = env.reset()\n",
    "\n",
    "while True:\n",
    "  observation = preprocessor.preprocess(raw_observation)\n",
    "  \n",
    "  ui.video.update_stream(\"raw\", raw_observation)\n",
    "  time.sleep(0.15)\n",
    "  \n",
    "  action = ui.control.get_value(\"action\")\n",
    "  if action is None:\n",
    "    continue\n",
    "\n",
    "  pause = ui.control.get_value(\"pause\")\n",
    "  if pause == 'true':\n",
    "    continue\n",
    "\n",
    "  data_writer.write(ds.encode(action, observation))\n",
    "  raw_observation, reward, done, info = env.step(action)\n",
    "  if done:\n",
    "    raw_observation = env.reset()\n",
    "    preprocessor.reset()"
   ]
  },
  {
   "cell_type": "code",
   "execution_count": 3,
   "metadata": {},
   "outputs": [
    {
     "name": "stderr",
     "output_type": "stream",
     "text": [
      "Exception in thread Thread-5 (start_reading_loop):\n",
      "Traceback (most recent call last):\n",
      "  File \"/opt/homebrew/Caskroom/miniforge/base/envs/ml/lib/python3.10/threading.py\", line 1009, in _bootstrap_inner\n",
      "    self.run()\n",
      "  File \"/opt/homebrew/Caskroom/miniforge/base/envs/ml/lib/python3.10/threading.py\", line 946, in run\n",
      "    self._target(*self._args, **self._kwargs)\n",
      "  File \"/Users/wiktorjurkiewicz/repos/00_PROJECTS/@_@_GENERAL/04_CODE/ML/ml_tools/ml_tools/ui/service/services.py\", line 23, in start_reading_loop\n",
      "    message = self.protocol.Read()\n",
      "  File \"/Users/wiktorjurkiewicz/repos/00_PROJECTS/@_@_GENERAL/04_CODE/ML/ml_tools/ml_tools/ui/protocol.py\", line 35, in Read\n",
      "    return self.decoder.Read()\n",
      "  File \"/Users/wiktorjurkiewicz/repos/00_PROJECTS/@_@_GENERAL/04_CODE/ML/ml_tools/ml_tools/ui/protocol.py\", line 51, in Read\n",
      "    n = d.r.recv_into(d.readBuffer)\n",
      "ConnectionResetError: [Errno 54] Connection reset by peer\n"
     ]
    }
   ],
   "source": [
    "data_writer.flush()\n",
    "data_writer.close()"
   ]
  },
  {
   "cell_type": "code",
   "execution_count": null,
   "metadata": {},
   "outputs": [],
   "source": []
  }
 ],
 "metadata": {
  "interpreter": {
   "hash": "e0289065fd70ee0301126581a02cae4c59a3b78f12d586ce6d502aba513ac9a8"
  },
  "kernelspec": {
   "display_name": "Python 3 (ipykernel)",
   "language": "python",
   "name": "python3"
  },
  "language_info": {
   "codemirror_mode": {
    "name": "ipython",
    "version": 3
   },
   "file_extension": ".py",
   "mimetype": "text/x-python",
   "name": "python",
   "nbconvert_exporter": "python",
   "pygments_lexer": "ipython3",
   "version": "3.10.4"
  }
 },
 "nbformat": 4,
 "nbformat_minor": 2
}
