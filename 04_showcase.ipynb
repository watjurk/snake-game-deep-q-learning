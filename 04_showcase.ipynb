{
 "cells": [
  {
   "cell_type": "code",
   "execution_count": 1,
   "id": "825fe390",
   "metadata": {
    "scrolled": false
   },
   "outputs": [
    {
     "data": {
      "text/plain": [
       "'127.0.0.1:57329'"
      ]
     },
     "execution_count": 1,
     "metadata": {},
     "output_type": "execute_result"
    }
   ],
   "source": [
    "import time\n",
    "\n",
    "import gym\n",
    "import gym_snake\n",
    "from ml_tools import q_learning\n",
    "\n",
    "import numpy as np\n",
    "import matplotlib.pyplot as plt\n",
    "\n",
    "from ml_tools.ui import UI\n",
    "\n",
    "ui = UI()\n",
    "ui.connect(\"./public\")"
   ]
  },
  {
   "cell_type": "code",
   "execution_count": 2,
   "id": "c6cd0fd0",
   "metadata": {},
   "outputs": [],
   "source": [
    "model_name = \"01_model_game-trained\"\n",
    "\n",
    "# brain_name = \"baseline\"\n",
    "# brain_name = \"pre-trained/baseline\"\n",
    "brain_name = \"pre-trained/all-trainable\"\n",
    "\n",
    "# brain_name = \"fast-epsilon-decay/pre-trained/all-trainable\"\n",
    "\n",
    "load_pre_trained = True"
   ]
  },
  {
   "cell_type": "code",
   "execution_count": 3,
   "id": "56729171",
   "metadata": {},
   "outputs": [
    {
     "name": "stdout",
     "output_type": "stream",
     "text": [
      "Model: \"model_1\"\n",
      "_________________________________________________________________\n",
      " Layer (type)                Output Shape              Param #   \n",
      "=================================================================\n",
      " input_2 (InputLayer)        [(None, 50, 50, 3)]       0         \n",
      "                                                                 \n",
      " conv2d_2 (Conv2D)           (None, 11, 11, 32)        6176      \n",
      "                                                                 \n",
      " max_pooling2d_2 (MaxPooling  (None, 6, 6, 32)         0         \n",
      " 2D)                                                             \n",
      "                                                                 \n",
      " conv2d_3 (Conv2D)           (None, 2, 2, 64)          32832     \n",
      "                                                                 \n",
      " max_pooling2d_3 (MaxPooling  (None, 2, 2, 64)         0         \n",
      " 2D)                                                             \n",
      "                                                                 \n",
      " flatten_1 (Flatten)         (None, 256)               0         \n",
      "                                                                 \n",
      " dense_2 (Dense)             (None, 256)               65792     \n",
      "                                                                 \n",
      " dense_3 (Dense)             (None, 4)                 1028      \n",
      "                                                                 \n",
      "=================================================================\n",
      "Total params: 105,828\n",
      "Trainable params: 105,828\n",
      "Non-trainable params: 0\n",
      "_________________________________________________________________\n"
     ]
    }
   ],
   "source": [
    "from brain.v2.brain import Brain\n",
    "from preprocessor.v1.preprocessor import Preprocessor\n",
    "\n",
    "preprocessor = Preprocessor()\n",
    "preprocessor.ui = ui\n",
    "brain = Brain(learning_rate=0)\n",
    "brain.ui = ui\n",
    "brain.load_model(name=brain_name, model_name=model_name)\n",
    "\n",
    "brain.model.summary()"
   ]
  },
  {
   "cell_type": "code",
   "execution_count": 4,
   "id": "4661396e",
   "metadata": {},
   "outputs": [],
   "source": [
    "agent = q_learning.Agent(\n",
    "  action_space=[0, 1, 2, 3],\n",
    "\n",
    "  brain=brain, preprocessor=preprocessor,\n",
    "\n",
    "  epsilon_start = 0,\n",
    "  epsilon_stop = 0,\n",
    "  epsilon_decay_num_steps = 250,\n",
    "  \n",
    "  discount_factor=0.97,\n",
    "  \n",
    "  replay_batch_size=32*2,\n",
    "  model_batch_size=16,\n",
    "\n",
    "  steps_to_train=20,\n",
    "  steps_to_update_target=40,\n",
    "\n",
    "  replay_memory_max_len=50_000,\n",
    "  replay_memory_min_len= 2_000,\n",
    ")\n",
    "agent.training = False\n",
    "\n",
    "env = gym.make(\"snake-v0\")"
   ]
  },
  {
   "cell_type": "code",
   "execution_count": null,
   "id": "60cdd2b1",
   "metadata": {
    "scrolled": true
   },
   "outputs": [
    {
     "name": "stdout",
     "output_type": "stream",
     "text": [
      "4/4 [==============================] - 0s 3ms/step - loss: 0.0138\n",
      "4/4 [==============================] - 0s 4ms/step - loss: 0.0108\n",
      "4/4 [==============================] - 0s 3ms/step - loss: 0.0105\n",
      "4/4 [==============================] - 0s 3ms/step - loss: 0.0102\n",
      "4/4 [==============================] - 0s 3ms/step - loss: 0.0093\n",
      "4/4 [==============================] - 0s 3ms/step - loss: 0.0129\n",
      "4/4 [==============================] - 0s 3ms/step - loss: 0.0216\n",
      "4/4 [==============================] - 0s 4ms/step - loss: 0.0082\n",
      "4/4 [==============================] - 0s 3ms/step - loss: 0.0057\n",
      "4/4 [==============================] - 0s 3ms/step - loss: 0.0051\n",
      "4/4 [==============================] - 0s 3ms/step - loss: 0.0065\n",
      "4/4 [==============================] - 0s 3ms/step - loss: 0.0056\n",
      "4/4 [==============================] - 0s 3ms/step - loss: 0.0060\n",
      "4/4 [==============================] - 0s 3ms/step - loss: 0.0096\n",
      "4/4 [==============================] - 0s 3ms/step - loss: 0.0071\n",
      "4/4 [==============================] - 0s 3ms/step - loss: 0.0083\n",
      "4/4 [==============================] - 0s 3ms/step - loss: 0.0127\n",
      "4/4 [==============================] - 0s 3ms/step - loss: 0.0095\n",
      "4/4 [==============================] - 0s 4ms/step - loss: 0.0060\n",
      "4/4 [==============================] - 0s 3ms/step - loss: 0.0054\n",
      "4/4 [==============================] - 0s 3ms/step - loss: 0.0160\n",
      "4/4 [==============================] - 0s 3ms/step - loss: 0.0061\n",
      "4/4 [==============================] - 0s 3ms/step - loss: 0.0034\n",
      "4/4 [==============================] - 0s 4ms/step - loss: 0.0047\n",
      "4/4 [==============================] - 0s 3ms/step - loss: 0.0066\n",
      "4/4 [==============================] - 0s 3ms/step - loss: 0.0081\n",
      "4/4 [==============================] - 0s 3ms/step - loss: 0.0082\n",
      "4/4 [==============================] - 0s 4ms/step - loss: 0.0143\n",
      "4/4 [==============================] - 0s 3ms/step - loss: 0.0107\n",
      "4/4 [==============================] - 0s 4ms/step - loss: 0.0045\n",
      "4/4 [==============================] - 0s 3ms/step - loss: 0.0078\n",
      "4/4 [==============================] - 0s 3ms/step - loss: 0.0090\n",
      "4/4 [==============================] - 0s 3ms/step - loss: 0.0055\n",
      "4/4 [==============================] - 0s 3ms/step - loss: 0.0086\n",
      "4/4 [==============================] - 0s 3ms/step - loss: 0.0061\n",
      "4/4 [==============================] - 0s 3ms/step - loss: 0.0115\n",
      "4/4 [==============================] - 0s 3ms/step - loss: 0.0124\n",
      "4/4 [==============================] - 0s 3ms/step - loss: 0.0127\n",
      "4/4 [==============================] - 0s 3ms/step - loss: 0.0072\n",
      "4/4 [==============================] - 0s 3ms/step - loss: 0.0059\n",
      "4/4 [==============================] - 0s 3ms/step - loss: 0.0137\n",
      "4/4 [==============================] - 0s 4ms/step - loss: 0.0046\n",
      "4/4 [==============================] - 0s 3ms/step - loss: 0.0099\n",
      "4/4 [==============================] - 0s 3ms/step - loss: 0.0069\n",
      "4/4 [==============================] - 0s 3ms/step - loss: 0.0092\n",
      "4/4 [==============================] - 0s 3ms/step - loss: 0.0104\n",
      "4/4 [==============================] - 0s 3ms/step - loss: 0.0109\n",
      "4/4 [==============================] - 0s 3ms/step - loss: 0.0076\n",
      "4/4 [==============================] - 0s 3ms/step - loss: 0.0109\n",
      "4/4 [==============================] - 0s 3ms/step - loss: 0.0081\n",
      "4/4 [==============================] - 0s 3ms/step - loss: 0.0064\n",
      "4/4 [==============================] - 0s 4ms/step - loss: 0.0039\n",
      "4/4 [==============================] - 0s 3ms/step - loss: 0.0054\n",
      "4/4 [==============================] - 0s 3ms/step - loss: 0.0060\n",
      "4/4 [==============================] - 0s 3ms/step - loss: 0.0086\n",
      "4/4 [==============================] - 0s 3ms/step - loss: 0.0064\n",
      "4/4 [==============================] - 0s 4ms/step - loss: 0.0075\n",
      "4/4 [==============================] - 0s 3ms/step - loss: 0.0056\n",
      "4/4 [==============================] - 0s 3ms/step - loss: 0.0071\n",
      "4/4 [==============================] - 0s 3ms/step - loss: 0.0077\n",
      "4/4 [==============================] - 0s 3ms/step - loss: 0.0069\n",
      "4/4 [==============================] - 0s 3ms/step - loss: 0.0163\n",
      "4/4 [==============================] - 0s 3ms/step - loss: 0.0044\n",
      "4/4 [==============================] - 0s 3ms/step - loss: 0.0065\n",
      "4/4 [==============================] - 0s 4ms/step - loss: 0.0048\n",
      "4/4 [==============================] - 0s 3ms/step - loss: 0.0056\n",
      "4/4 [==============================] - 0s 3ms/step - loss: 0.0106\n",
      "4/4 [==============================] - 0s 4ms/step - loss: 0.0067\n",
      "4/4 [==============================] - 0s 3ms/step - loss: 0.0076\n",
      "4/4 [==============================] - 0s 3ms/step - loss: 0.0092\n",
      "4/4 [==============================] - 0s 5ms/step - loss: 0.0052\n",
      "4/4 [==============================] - 0s 3ms/step - loss: 0.0095\n",
      "4/4 [==============================] - 0s 3ms/step - loss: 0.0097\n",
      "4/4 [==============================] - 0s 3ms/step - loss: 0.0045\n",
      "4/4 [==============================] - 0s 3ms/step - loss: 0.0065\n",
      "4/4 [==============================] - 0s 3ms/step - loss: 0.0060\n",
      "4/4 [==============================] - 0s 3ms/step - loss: 0.0108\n",
      "4/4 [==============================] - 0s 3ms/step - loss: 0.0060\n",
      "4/4 [==============================] - 0s 3ms/step - loss: 0.0066\n",
      "4/4 [==============================] - 0s 3ms/step - loss: 0.0137\n",
      "4/4 [==============================] - 0s 3ms/step - loss: 0.0078\n",
      "4/4 [==============================] - 0s 3ms/step - loss: 0.0085\n",
      "4/4 [==============================] - 0s 5ms/step - loss: 0.0058\n",
      "4/4 [==============================] - 0s 4ms/step - loss: 0.0066\n",
      "4/4 [==============================] - 0s 3ms/step - loss: 0.0043\n",
      "4/4 [==============================] - 0s 3ms/step - loss: 0.0105\n",
      "4/4 [==============================] - 0s 3ms/step - loss: 0.0072\n",
      "4/4 [==============================] - 0s 3ms/step - loss: 0.0101\n",
      "4/4 [==============================] - 0s 3ms/step - loss: 0.0053\n",
      "4/4 [==============================] - 0s 3ms/step - loss: 0.0081\n",
      "4/4 [==============================] - 0s 3ms/step - loss: 0.0127\n",
      "4/4 [==============================] - 0s 3ms/step - loss: 0.0070\n"
     ]
    }
   ],
   "source": [
    "raw_observation = env.reset()\n",
    "agent.reset(raw_observation)\n",
    "\n",
    "while True:\n",
    "  ui.video.update_stream(\"raw\", raw_observation)\n",
    "\n",
    "  speed = int(ui.control.get_value(\"speed\") or 100)\n",
    "  if speed != 100:\n",
    "    time.sleep(1 / speed)\n",
    "\n",
    "  agent.training = True if (ui.control.get_value(\"training\") or \"true\") == \"true\" else False\n",
    "  action = agent.act()\n",
    "  raw_next_observation, reward, done, info = env.step(action)\n",
    "  agent.step(reward, raw_next_observation)\n",
    "\n",
    "  raw_observation = raw_next_observation\n",
    "  if done:\n",
    "    raw_observation = env.reset()\n",
    "    agent.reset(raw_observation)"
   ]
  },
  {
   "cell_type": "code",
   "execution_count": null,
   "id": "532946c5",
   "metadata": {},
   "outputs": [],
   "source": []
  }
 ],
 "metadata": {
  "interpreter": {
   "hash": "e0289065fd70ee0301126581a02cae4c59a3b78f12d586ce6d502aba513ac9a8"
  },
  "kernelspec": {
   "display_name": "ml-M1",
   "language": "python",
   "name": "ml-m1"
  },
  "language_info": {
   "codemirror_mode": {
    "name": "ipython",
    "version": 3
   },
   "file_extension": ".py",
   "mimetype": "text/x-python",
   "name": "python",
   "nbconvert_exporter": "python",
   "pygments_lexer": "ipython3",
   "version": "3.9.12"
  }
 },
 "nbformat": 4,
 "nbformat_minor": 5
}
