{
 "cells": [
  {
   "cell_type": "code",
   "execution_count": 1,
   "id": "825fe390",
   "metadata": {},
   "outputs": [
    {
     "data": {
      "text/plain": [
       "'127.0.0.1:50433'"
      ]
     },
     "execution_count": 1,
     "metadata": {},
     "output_type": "execute_result"
    }
   ],
   "source": [
    "import time\n",
    "\n",
    "import gym\n",
    "import gym_snake\n",
    "from ml_tools import q_learning\n",
    "\n",
    "import numpy as np\n",
    "import matplotlib.pyplot as plt\n",
    "\n",
    "from ml_tools.ui import UI\n",
    "\n",
    "ui = UI()\n",
    "ui.connect(\"./public\")"
   ]
  },
  {
   "cell_type": "code",
   "execution_count": 2,
   "id": "c6cd0fd0",
   "metadata": {},
   "outputs": [],
   "source": [
    "# brain_name = \"baseline\"\n",
    "brain_name = \"pre-trained/baseline\"\n",
    "# brain_name = \"pre-trained/all-trainable\"\n",
    "\n",
    "load_pre_trained = True"
   ]
  },
  {
   "cell_type": "code",
   "execution_count": 3,
   "id": "56729171",
   "metadata": {},
   "outputs": [
    {
     "name": "stdout",
     "output_type": "stream",
     "text": [
      "Loaded layer:\n",
      "=================================================================\n",
      "input_1\n",
      "conv2d\n",
      "max_pooling2d\n",
      "conv2d_1\n",
      "max_pooling2d_1\n",
      "flatten\n",
      "=================================================================\n",
      "\n",
      "Model: \"model\"\n",
      "_________________________________________________________________\n",
      " Layer (type)                Output Shape              Param #   \n",
      "=================================================================\n",
      " input_1 (InputLayer)        [(None, 50, 50, 3)]       0         \n",
      "                                                                 \n",
      " conv2d (Conv2D)             (None, 11, 11, 32)        6176      \n",
      "                                                                 \n",
      " max_pooling2d (MaxPooling2D  (None, 6, 6, 32)         0         \n",
      " )                                                               \n",
      "                                                                 \n",
      " conv2d_1 (Conv2D)           (None, 2, 2, 64)          32832     \n",
      "                                                                 \n",
      " max_pooling2d_1 (MaxPooling  (None, 2, 2, 64)         0         \n",
      " 2D)                                                             \n",
      "                                                                 \n",
      " flatten (Flatten)           (None, 256)               0         \n",
      "                                                                 \n",
      " dense (Dense)               (None, 256)               65792     \n",
      "                                                                 \n",
      " dense_1 (Dense)             (None, 4)                 1028      \n",
      "                                                                 \n",
      "=================================================================\n",
      "Total params: 105,828\n",
      "Trainable params: 66,820\n",
      "Non-trainable params: 39,008\n",
      "_________________________________________________________________\n"
     ]
    }
   ],
   "source": [
    "from brain.v4.brain import Brain\n",
    "from preprocessor.v1.preprocessor import Preprocessor\n",
    "\n",
    "preprocessor = Preprocessor()\n",
    "preprocessor.ui = ui\n",
    "brain = Brain(learning_rate=0.0001)\n",
    "brain.ui = ui\n",
    "\n",
    "if load_pre_trained:\n",
    "  pre_trained_name = \"pre-trained\"\n",
    "  pre_trained_model_name = \"@@_model_pre-trained\"\n",
    "  \n",
    "  brain.load_layers_and_compile_model(\n",
    "    name=pre_trained_name, model_name=pre_trained_model_name, \n",
    "    num_layers=6, trainable=False\n",
    "  )\n",
    "  print(\"\")\n",
    "else:\n",
    "  brain.build_and_compile_model()\n",
    "\n",
    "brain.model.summary()"
   ]
  },
  {
   "cell_type": "code",
   "execution_count": 4,
   "id": "4661396e",
   "metadata": {},
   "outputs": [],
   "source": [
    "agent = q_learning.Agent(\n",
    "  action_space=[0, 1, 2, 3],\n",
    "\n",
    "  brain=brain, preprocessor=preprocessor,\n",
    "\n",
    "  epsilon_start = 1,\n",
    "  epsilon_stop = 0.001,\n",
    "  epsilon_decay_num_steps = 1_000,\n",
    "  \n",
    "  discount_factor=0.97,\n",
    "  \n",
    "  replay_batch_size=32*2,\n",
    "  model_batch_size=16,\n",
    "\n",
    "  steps_to_train=20,\n",
    "  steps_to_update_target=40,\n",
    "\n",
    "  replay_memory_max_len=50_000,\n",
    "  replay_memory_min_len= 2_000,\n",
    ")\n",
    "\n",
    "env = gym.make(\"snake-v0\")\n",
    "\n",
    "score = 0\n",
    "scores = []\n",
    "epsilons = []\n",
    "\n",
    "game_num = 0"
   ]
  },
  {
   "cell_type": "code",
   "execution_count": null,
   "id": "60cdd2b1",
   "metadata": {
    "scrolled": true
   },
   "outputs": [
    {
     "name": "stderr",
     "output_type": "stream",
     "text": [
      "2022-04-19 19:23:41.482536: W tensorflow/core/platform/profile_utils/cpu_utils.cc:128] Failed to get CPU frequency: 0 Hz\n"
     ]
    },
    {
     "name": "stdout",
     "output_type": "stream",
     "text": [
      "4/4 [==============================] - 0s 1ms/step - loss: 0.0168\n",
      "4/4 [==============================] - 0s 3ms/step - loss: 0.0103\n",
      "4/4 [==============================] - 0s 1ms/step - loss: 0.0063\n",
      "4/4 [==============================] - 0s 1ms/step - loss: 0.0027\n",
      "4/4 [==============================] - 0s 1ms/step - loss: 0.0134\n",
      "4/4 [==============================] - 0s 1ms/step - loss: 0.0166\n",
      "4/4 [==============================] - 0s 1ms/step - loss: 0.0123\n",
      "4/4 [==============================] - 0s 1ms/step - loss: 0.0167\n",
      "4/4 [==============================] - 0s 1ms/step - loss: 0.0057\n",
      "4/4 [==============================] - 0s 1ms/step - loss: 0.0083\n",
      "4/4 [==============================] - 0s 1ms/step - loss: 0.0189\n",
      "4/4 [==============================] - 0s 1ms/step - loss: 0.0124\n",
      "4/4 [==============================] - 0s 1ms/step - loss: 0.0163\n",
      "4/4 [==============================] - 0s 1ms/step - loss: 0.0064\n",
      "4/4 [==============================] - 0s 1ms/step - loss: 0.0133\n",
      "4/4 [==============================] - 0s 1ms/step - loss: 0.0144\n",
      "4/4 [==============================] - 0s 1ms/step - loss: 0.0044\n",
      "4/4 [==============================] - 0s 1ms/step - loss: 0.0013\n",
      "4/4 [==============================] - 0s 1ms/step - loss: 0.0042\n",
      "4/4 [==============================] - 0s 1ms/step - loss: 0.0083\n",
      "4/4 [==============================] - 0s 1ms/step - loss: 0.0070\n",
      "4/4 [==============================] - 0s 1ms/step - loss: 0.0184\n",
      "4/4 [==============================] - 0s 1ms/step - loss: 0.0040\n",
      "4/4 [==============================] - 0s 1ms/step - loss: 0.0155\n",
      "4/4 [==============================] - 0s 1ms/step - loss: 0.0130\n",
      "4/4 [==============================] - 0s 1ms/step - loss: 0.0123\n",
      "4/4 [==============================] - 0s 1ms/step - loss: 0.0079\n",
      "4/4 [==============================] - 0s 1ms/step - loss: 0.0172\n",
      "4/4 [==============================] - 0s 1ms/step - loss: 0.0089\n",
      "4/4 [==============================] - 0s 1ms/step - loss: 0.0119\n",
      "4/4 [==============================] - 0s 1ms/step - loss: 0.0243\n",
      "4/4 [==============================] - 0s 1ms/step - loss: 0.0038\n",
      "4/4 [==============================] - 0s 1ms/step - loss: 0.0095\n",
      "4/4 [==============================] - 0s 1ms/step - loss: 0.0122\n",
      "4/4 [==============================] - 0s 1ms/step - loss: 0.0083\n",
      "4/4 [==============================] - 0s 1ms/step - loss: 0.0124\n",
      "4/4 [==============================] - 0s 1ms/step - loss: 0.0072\n",
      "4/4 [==============================] - 0s 1ms/step - loss: 0.0047\n",
      "4/4 [==============================] - 0s 1ms/step - loss: 0.0190\n",
      "4/4 [==============================] - 0s 1ms/step - loss: 0.0085\n",
      "4/4 [==============================] - 0s 1ms/step - loss: 0.0079\n",
      "4/4 [==============================] - 0s 1ms/step - loss: 0.0146\n",
      "4/4 [==============================] - 0s 1ms/step - loss: 0.0250\n",
      "4/4 [==============================] - 0s 1ms/step - loss: 0.0150\n"
     ]
    }
   ],
   "source": [
    "raw_observation = env.reset()\n",
    "agent.reset(raw_observation)\n",
    "\n",
    "while True:\n",
    "  if game_num == 5_000:\n",
    "    break\n",
    "    \n",
    "  ui.video.update_stream(\"raw\", raw_observation)\n",
    "\n",
    "  speed = int(ui.control.get_value(\"speed\") or 100)\n",
    "  if speed != 100:\n",
    "    time.sleep(1 / speed)\n",
    "\n",
    "  agent.training = True if (ui.control.get_value(\"training\") or \"true\") == \"true\" else False\n",
    "  action = agent.act()\n",
    "  raw_next_observation, reward, done, info = env.step(action)\n",
    "  agent.step(reward, raw_next_observation)\n",
    "  score += reward\n",
    "\n",
    "  raw_observation = raw_next_observation\n",
    "  if done:\n",
    "    scores.append(score)\n",
    "    epsilons.append(agent.epsilon)\n",
    "    score = 0\n",
    "\n",
    "    game_num += 1\n",
    "\n",
    "    raw_observation = env.reset()\n",
    "    agent.reset(raw_observation)"
   ]
  },
  {
   "cell_type": "code",
   "execution_count": 8,
   "id": "a9a9f0ca",
   "metadata": {},
   "outputs": [
    {
     "data": {
      "image/png": "[encoded data removed]",
      "text/plain": [
       "<Figure size 432x288 with 2 Axes>"
      ]
     },
     "metadata": {
      "needs_background": "light"
     },
     "output_type": "display_data"
    }
   ],
   "source": [
    "_, ax1 = plt.subplots()\n",
    "\n",
    "plt.title(\"game score\")\n",
    "ax1.plot(scores)\n",
    "ax1.set_xlabel(\"game\")\n",
    "ax1.set_ylabel(\"score\")\n",
    "ax1.set_yticks(np.arange(-2, 30, 2))\n",
    "\n",
    "ax2 = ax1.twinx()\n",
    "ax2.plot(epsilons, \"r\")\n",
    "ax2.set_ylabel(\"epsilon\")\n",
    "ax2.set_yticks(np.arange(0, 1, 0.1))\n",
    "ax2.legend([\"epsilon\"], loc=\"upper right\")\n",
    "\n",
    "# plt.savefig(f\"{brain.current_folder}/{brain_name}/game_score.jpg\")\n",
    "plt.show()"
   ]
  },
  {
   "cell_type": "code",
   "execution_count": 13,
   "id": "60b32001",
   "metadata": {
    "collapsed": true
   },
   "outputs": [
    {
     "name": "stdout",
     "output_type": "stream",
     "text": [
      "INFO:tensorflow:Assets written to: /Users/wiktorjurkiewicz/repos/00_PROJECTS/@_@_GENERAL/04_CODE/ML/snake-deep-q-learning/brain/v4/pre-trained/all-trainable/@@_model/assets\n"
     ]
    }
   ],
   "source": [
    "brain.save_model(name=brain_name)\n",
    "agent.save_params(name=f\"{brain.current_folder}/{brain_name}\")"
   ]
  },
  {
   "cell_type": "code",
   "execution_count": null,
   "id": "625c968f",
   "metadata": {},
   "outputs": [],
   "source": []
  }
 ],
 "metadata": {
  "interpreter": {
   "hash": "e0289065fd70ee0301126581a02cae4c59a3b78f12d586ce6d502aba513ac9a8"
  },
  "kernelspec": {
   "display_name": "Python 3.8.8 64-bit ('ml': conda)",
   "language": "python",
   "name": "python388jvsc74a57bd0e0289065fd70ee0301126581a02cae4c59a3b78f12d586ce6d502aba513ac9a8"
  },
  "language_info": {
   "codemirror_mode": {
    "name": "ipython",
    "version": 3
   },
   "file_extension": ".py",
   "mimetype": "text/x-python",
   "name": "python",
   "nbconvert_exporter": "python",
   "pygments_lexer": "ipython3",
   "version": "3.10.4"
  }
 },
 "nbformat": 4,
 "nbformat_minor": 5
}
